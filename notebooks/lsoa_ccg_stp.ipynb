{
 "cells": [
  {
   "cell_type": "code",
   "execution_count": 2,
   "metadata": {},
   "outputs": [],
   "source": [
    "import pandas as pd"
   ]
  },
  {
   "cell_type": "code",
   "execution_count": 15,
   "metadata": {},
   "outputs": [],
   "source": [
    "df = pd.read_csv('~/Downloads/LSOA_(2011)_to_Clinical_Commissioning_Groups_to_Sustainability_and_Transformation_Partnerships_(April_2019)_Lookup_in_England.csv')"
   ]
  },
  {
   "cell_type": "code",
   "execution_count": 16,
   "metadata": {},
   "outputs": [],
   "source": [
    "df.rename(columns = {\n",
    " 'LSOA11CD': 'lsoa_code',\n",
    " 'LSOA11NM': 'lsoa_name',\n",
    " 'CCG19CD': 'ccg_code',\n",
    " 'CCG19CDH': 'ccg_cdh',\n",
    " 'CCG19NM': 'ccg_name',\n",
    " 'STP19CD': 'stp_code',\n",
    " 'STP19NM': 'stp_name',\n",
    " 'LAD19CD': 'local_authority_code',\n",
    " 'LAD19NM': 'local_authority_name'\n",
    "}, inplace=True)"
   ]
  },
  {
   "cell_type": "code",
   "execution_count": 17,
   "metadata": {},
   "outputs": [],
   "source": [
    "df.drop('FID', axis=1, inplace=True)"
   ]
  },
  {
   "cell_type": "code",
   "execution_count": 18,
   "metadata": {},
   "outputs": [
    {
     "data": {
      "text/html": [
       "<div>\n",
       "<style scoped>\n",
       "    .dataframe tbody tr th:only-of-type {\n",
       "        vertical-align: middle;\n",
       "    }\n",
       "\n",
       "    .dataframe tbody tr th {\n",
       "        vertical-align: top;\n",
       "    }\n",
       "\n",
       "    .dataframe thead th {\n",
       "        text-align: right;\n",
       "    }\n",
       "</style>\n",
       "<table border=\"1\" class=\"dataframe\">\n",
       "  <thead>\n",
       "    <tr style=\"text-align: right;\">\n",
       "      <th></th>\n",
       "      <th>7710</th>\n",
       "    </tr>\n",
       "  </thead>\n",
       "  <tbody>\n",
       "    <tr>\n",
       "      <th>lsoa_code</th>\n",
       "      <td>E01019489</td>\n",
       "    </tr>\n",
       "    <tr>\n",
       "      <th>lsoa_name</th>\n",
       "      <td>Bolsover 005C</td>\n",
       "    </tr>\n",
       "    <tr>\n",
       "      <th>ccg_code</th>\n",
       "      <td>E38000229</td>\n",
       "    </tr>\n",
       "    <tr>\n",
       "      <th>ccg_cdh</th>\n",
       "      <td>15M</td>\n",
       "    </tr>\n",
       "    <tr>\n",
       "      <th>ccg_name</th>\n",
       "      <td>NHS Derby and Derbyshire CCG</td>\n",
       "    </tr>\n",
       "    <tr>\n",
       "      <th>stp_code</th>\n",
       "      <td>E54000012</td>\n",
       "    </tr>\n",
       "    <tr>\n",
       "      <th>stp_name</th>\n",
       "      <td>Joined Up Care Derbyshire</td>\n",
       "    </tr>\n",
       "    <tr>\n",
       "      <th>local_authority_code</th>\n",
       "      <td>E07000033</td>\n",
       "    </tr>\n",
       "    <tr>\n",
       "      <th>local_authority_name</th>\n",
       "      <td>Bolsover</td>\n",
       "    </tr>\n",
       "  </tbody>\n",
       "</table>\n",
       "</div>"
      ],
      "text/plain": [
       "                                              7710\n",
       "lsoa_code                                E01019489\n",
       "lsoa_name                            Bolsover 005C\n",
       "ccg_code                                 E38000229\n",
       "ccg_cdh                                        15M\n",
       "ccg_name              NHS Derby and Derbyshire CCG\n",
       "stp_code                                 E54000012\n",
       "stp_name                 Joined Up Care Derbyshire\n",
       "local_authority_code                     E07000033\n",
       "local_authority_name                      Bolsover"
      ]
     },
     "execution_count": 18,
     "metadata": {},
     "output_type": "execute_result"
    }
   ],
   "source": [
    "df.sample().transpose()"
   ]
  },
  {
   "cell_type": "code",
   "execution_count": 19,
   "metadata": {},
   "outputs": [],
   "source": [
    "df.to_csv('../server/data/lsoa_ccg_stp.csv')"
   ]
  },
  {
   "cell_type": "code",
   "execution_count": null,
   "metadata": {},
   "outputs": [],
   "source": []
  }
 ],
 "metadata": {
  "interpreter": {
   "hash": "aee8b7b246df8f9039afb4144a1f6fd8d2ca17a180786b69acc140d282b71a49"
  },
  "kernelspec": {
   "display_name": "Python 3.9.6 64-bit",
   "language": "python",
   "name": "python3"
  },
  "language_info": {
   "codemirror_mode": {
    "name": "ipython",
    "version": 3
   },
   "file_extension": ".py",
   "mimetype": "text/x-python",
   "name": "python",
   "nbconvert_exporter": "python",
   "pygments_lexer": "ipython3",
   "version": "3.7.9"
  },
  "orig_nbformat": 4
 },
 "nbformat": 4,
 "nbformat_minor": 2
}
