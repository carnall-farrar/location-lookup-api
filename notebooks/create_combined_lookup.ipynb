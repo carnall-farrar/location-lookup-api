{
 "cells": [
  {
   "cell_type": "code",
   "execution_count": 1,
   "metadata": {},
   "outputs": [],
   "source": [
    "import pandas as pd"
   ]
  },
  {
   "cell_type": "markdown",
   "metadata": {},
   "source": [
    "Aiming to combine 2018 and 2020 CCG -> STP -> region lookup\n",
    "\n",
    "To account for CCG changes"
   ]
  },
  {
   "cell_type": "code",
   "execution_count": 2,
   "metadata": {},
   "outputs": [],
   "source": [
    "ccg19 = pd.read_csv('../data/ccg_2019.csv')\n",
    "ccg19 = ccg19[['CCG19CDH', 'CCG19NM', 'STP19CD', 'STP19NM']] \\\n",
    "        .rename(columns = {'CCG19CDH': 'ccg_code', 'CCG19NM': 'ccg_name', 'STP19CD': 'stp_code', 'STP19NM':'stp_name'})\n",
    "ccg19['file'] = '2019 CCGs'\n",
    "\n",
    "ccg20 = pd.read_csv('../data/ccg_2020.csv')\n",
    "ccg20 = ccg20[['CCG20CDH', 'CCG20NM', 'STP20CD', 'STP20NM']] \\\n",
    "        .rename(columns = {'CCG20CDH': 'ccg_code', 'CCG20NM': 'ccg_name', 'STP20CD': 'stp_code', 'STP20NM':'stp_name'})\n",
    "ccg20['file'] = '2020 CCGs'\n",
    "\n",
    "ccg21 = pd.read_csv('../data/ccg_2021.csv')\n",
    "ccg21 = ccg21[['CCG21CDH', 'CCG21NM', 'STP21CD', 'STP21NM']] \\\n",
    "        .rename(columns = {'CCG21CDH': 'ccg_code', 'CCG21NM': 'ccg_name', 'STP21CD': 'stp_code', 'STP21NM':'stp_name'})\n",
    "ccg21['file'] = '2021 CCGs'\n",
    "\n",
    "stp = pd.read_csv('../data/stp_region_2020.csv')\n"
   ]
  },
  {
   "cell_type": "code",
   "execution_count": 3,
   "metadata": {},
   "outputs": [],
   "source": [
    "ccg_concat = pd.concat([ccg19, ccg20, ccg21])"
   ]
  },
  {
   "cell_type": "code",
   "execution_count": 4,
   "metadata": {},
   "outputs": [
    {
     "data": {
      "text/html": [
       "<div>\n",
       "<style scoped>\n",
       "    .dataframe tbody tr th:only-of-type {\n",
       "        vertical-align: middle;\n",
       "    }\n",
       "\n",
       "    .dataframe tbody tr th {\n",
       "        vertical-align: top;\n",
       "    }\n",
       "\n",
       "    .dataframe thead th {\n",
       "        text-align: right;\n",
       "    }\n",
       "</style>\n",
       "<table border=\"1\" class=\"dataframe\">\n",
       "  <thead>\n",
       "    <tr style=\"text-align: right;\">\n",
       "      <th></th>\n",
       "      <th>ccg_code</th>\n",
       "      <th>ccg_name</th>\n",
       "      <th>stp_code</th>\n",
       "      <th>stp_name</th>\n",
       "      <th>file</th>\n",
       "    </tr>\n",
       "  </thead>\n",
       "  <tbody>\n",
       "    <tr>\n",
       "      <th>117</th>\n",
       "      <td>08W</td>\n",
       "      <td>NHS Waltham Forest CCG</td>\n",
       "      <td>E54000029</td>\n",
       "      <td>East London Health and Care Partnership</td>\n",
       "      <td>2019 CCGs</td>\n",
       "    </tr>\n",
       "  </tbody>\n",
       "</table>\n",
       "</div>"
      ],
      "text/plain": [
       "    ccg_code                ccg_name   stp_code  \\\n",
       "117      08W  NHS Waltham Forest CCG  E54000029   \n",
       "\n",
       "                                    stp_name       file  \n",
       "117  East London Health and Care Partnership  2019 CCGs  "
      ]
     },
     "execution_count": 4,
     "metadata": {},
     "output_type": "execute_result"
    }
   ],
   "source": [
    "ccg_concat.sample()"
   ]
  },
  {
   "cell_type": "code",
   "execution_count": 5,
   "metadata": {},
   "outputs": [
    {
     "data": {
      "text/html": [
       "<div>\n",
       "<style scoped>\n",
       "    .dataframe tbody tr th:only-of-type {\n",
       "        vertical-align: middle;\n",
       "    }\n",
       "\n",
       "    .dataframe tbody tr th {\n",
       "        vertical-align: top;\n",
       "    }\n",
       "\n",
       "    .dataframe thead th {\n",
       "        text-align: right;\n",
       "    }\n",
       "</style>\n",
       "<table border=\"1\" class=\"dataframe\">\n",
       "  <thead>\n",
       "    <tr style=\"text-align: right;\">\n",
       "      <th></th>\n",
       "      <th>FID</th>\n",
       "      <th>STP20CD</th>\n",
       "      <th>STP20CDH</th>\n",
       "      <th>STP20NM</th>\n",
       "      <th>NHSER20CD</th>\n",
       "      <th>NHSER20CDH</th>\n",
       "      <th>NHSER20NM</th>\n",
       "    </tr>\n",
       "  </thead>\n",
       "  <tbody>\n",
       "    <tr>\n",
       "      <th>24</th>\n",
       "      <td>25</td>\n",
       "      <td>E54000010</td>\n",
       "      <td>QNC</td>\n",
       "      <td>Staffordshire and Stoke on Trent</td>\n",
       "      <td>E40000008</td>\n",
       "      <td>Y60</td>\n",
       "      <td>Midlands</td>\n",
       "    </tr>\n",
       "  </tbody>\n",
       "</table>\n",
       "</div>"
      ],
      "text/plain": [
       "    FID    STP20CD STP20CDH                           STP20NM  NHSER20CD  \\\n",
       "24   25  E54000010      QNC  Staffordshire and Stoke on Trent  E40000008   \n",
       "\n",
       "   NHSER20CDH NHSER20NM  \n",
       "24        Y60  Midlands  "
      ]
     },
     "execution_count": 5,
     "metadata": {},
     "output_type": "execute_result"
    }
   ],
   "source": [
    "stp.sample()"
   ]
  },
  {
   "cell_type": "code",
   "execution_count": 6,
   "metadata": {},
   "outputs": [
    {
     "data": {
      "text/plain": [
       "(432, 5)"
      ]
     },
     "execution_count": 6,
     "metadata": {},
     "output_type": "execute_result"
    }
   ],
   "source": [
    "ccg_concat.shape"
   ]
  },
  {
   "cell_type": "code",
   "execution_count": 7,
   "metadata": {},
   "outputs": [],
   "source": [
    "ccg_concat.stp_code = ccg_concat.stp_code.replace('E54000005', 'E54000054')\n",
    "ccg_concat.stp_code = ccg_concat.stp_code.replace('E54000006', 'E54000051')\n",
    "ccg_concat.stp_code = ccg_concat.stp_code.replace('E54000033', 'E54000053')\n",
    "ccg_concat.stp_code = ccg_concat.stp_code.replace('E54000035', 'E54000052')\n",
    "ccg_concat.stp_code = ccg_concat.stp_code.replace('E54000049', 'E54000050')\n",
    "\n",
    "ccg_concat = ccg_concat.drop_duplicates(subset=['ccg_code', 'ccg_name', 'stp_code', 'stp_name'])"
   ]
  },
  {
   "cell_type": "code",
   "execution_count": 8,
   "metadata": {},
   "outputs": [],
   "source": [
    "end_lookup = ccg_concat.merge(stp, left_on='stp_code', right_on='STP20CD', how='left')\n",
    "\n",
    "end_lookup.stp_name = end_lookup.stp_name.replace('Cornwall and the Isles of Scilly Health and Social Care Partnership', 'Cornwall and the Isles of Scilly')\n",
    "end_lookup.stp_name = end_lookup.stp_name.replace('Frimley Health and Care ICS', 'Frimley Health')\n",
    "end_lookup.stp_name = end_lookup.stp_name.replace('Surrey Heartlands Health and Care Partnership', 'Surrey Heartlands')\n",
    "end_lookup.stp_name = end_lookup.stp_name.replace('Sussex and East Surrey Health and Care Partnership', 'Sussex Health and Care Partnership')\n",
    "end_lookup.stp_name = end_lookup.stp_name.replace('Sussex and East Surrey', 'Sussex Health and Care Partnership')"
   ]
  },
  {
   "cell_type": "code",
   "execution_count": 10,
   "metadata": {},
   "outputs": [],
   "source": [
    "end_lookup.to_csv('../data/combined_lookup.csv')"
   ]
  },
  {
   "cell_type": "code",
   "execution_count": 11,
   "metadata": {},
   "outputs": [
    {
     "data": {
      "text/html": [
       "<div>\n",
       "<style scoped>\n",
       "    .dataframe tbody tr th:only-of-type {\n",
       "        vertical-align: middle;\n",
       "    }\n",
       "\n",
       "    .dataframe tbody tr th {\n",
       "        vertical-align: top;\n",
       "    }\n",
       "\n",
       "    .dataframe thead th {\n",
       "        text-align: right;\n",
       "    }\n",
       "</style>\n",
       "<table border=\"1\" class=\"dataframe\">\n",
       "  <thead>\n",
       "    <tr style=\"text-align: right;\">\n",
       "      <th></th>\n",
       "      <th>ccg_code</th>\n",
       "      <th>ccg_name</th>\n",
       "      <th>stp_code</th>\n",
       "      <th>stp_name</th>\n",
       "      <th>file</th>\n",
       "      <th>FID</th>\n",
       "      <th>STP20CD</th>\n",
       "      <th>STP20CDH</th>\n",
       "      <th>STP20NM</th>\n",
       "      <th>NHSER20CD</th>\n",
       "      <th>NHSER20CDH</th>\n",
       "      <th>NHSER20NM</th>\n",
       "    </tr>\n",
       "  </thead>\n",
       "  <tbody>\n",
       "    <tr>\n",
       "      <th>0</th>\n",
       "      <td>02N</td>\n",
       "      <td>NHS Airedale, Wharfedale and Craven CCG</td>\n",
       "      <td>E54000054</td>\n",
       "      <td>West Yorkshire and Harrogate (Health and Care ...</td>\n",
       "      <td>2019 CCGs</td>\n",
       "      <td>39</td>\n",
       "      <td>E54000054</td>\n",
       "      <td>QWO</td>\n",
       "      <td>West Yorkshire and Harrogate (Health and Care ...</td>\n",
       "      <td>E40000009</td>\n",
       "      <td>Y63</td>\n",
       "      <td>North East and Yorkshire</td>\n",
       "    </tr>\n",
       "    <tr>\n",
       "      <th>1</th>\n",
       "      <td>02W</td>\n",
       "      <td>NHS Bradford City CCG</td>\n",
       "      <td>E54000054</td>\n",
       "      <td>West Yorkshire and Harrogate (Health and Care ...</td>\n",
       "      <td>2019 CCGs</td>\n",
       "      <td>39</td>\n",
       "      <td>E54000054</td>\n",
       "      <td>QWO</td>\n",
       "      <td>West Yorkshire and Harrogate (Health and Care ...</td>\n",
       "      <td>E40000009</td>\n",
       "      <td>Y63</td>\n",
       "      <td>North East and Yorkshire</td>\n",
       "    </tr>\n",
       "    <tr>\n",
       "      <th>2</th>\n",
       "      <td>02R</td>\n",
       "      <td>NHS Bradford Districts CCG</td>\n",
       "      <td>E54000054</td>\n",
       "      <td>West Yorkshire and Harrogate (Health and Care ...</td>\n",
       "      <td>2019 CCGs</td>\n",
       "      <td>39</td>\n",
       "      <td>E54000054</td>\n",
       "      <td>QWO</td>\n",
       "      <td>West Yorkshire and Harrogate (Health and Care ...</td>\n",
       "      <td>E40000009</td>\n",
       "      <td>Y63</td>\n",
       "      <td>North East and Yorkshire</td>\n",
       "    </tr>\n",
       "    <tr>\n",
       "      <th>3</th>\n",
       "      <td>02T</td>\n",
       "      <td>NHS Calderdale CCG</td>\n",
       "      <td>E54000054</td>\n",
       "      <td>West Yorkshire and Harrogate (Health and Care ...</td>\n",
       "      <td>2019 CCGs</td>\n",
       "      <td>39</td>\n",
       "      <td>E54000054</td>\n",
       "      <td>QWO</td>\n",
       "      <td>West Yorkshire and Harrogate (Health and Care ...</td>\n",
       "      <td>E40000009</td>\n",
       "      <td>Y63</td>\n",
       "      <td>North East and Yorkshire</td>\n",
       "    </tr>\n",
       "    <tr>\n",
       "      <th>4</th>\n",
       "      <td>03A</td>\n",
       "      <td>NHS Greater Huddersfield CCG</td>\n",
       "      <td>E54000054</td>\n",
       "      <td>West Yorkshire and Harrogate (Health and Care ...</td>\n",
       "      <td>2019 CCGs</td>\n",
       "      <td>39</td>\n",
       "      <td>E54000054</td>\n",
       "      <td>QWO</td>\n",
       "      <td>West Yorkshire and Harrogate (Health and Care ...</td>\n",
       "      <td>E40000009</td>\n",
       "      <td>Y63</td>\n",
       "      <td>North East and Yorkshire</td>\n",
       "    </tr>\n",
       "  </tbody>\n",
       "</table>\n",
       "</div>"
      ],
      "text/plain": [
       "  ccg_code                                 ccg_name   stp_code  \\\n",
       "0      02N  NHS Airedale, Wharfedale and Craven CCG  E54000054   \n",
       "1      02W                    NHS Bradford City CCG  E54000054   \n",
       "2      02R               NHS Bradford Districts CCG  E54000054   \n",
       "3      02T                       NHS Calderdale CCG  E54000054   \n",
       "4      03A             NHS Greater Huddersfield CCG  E54000054   \n",
       "\n",
       "                                            stp_name       file  FID  \\\n",
       "0  West Yorkshire and Harrogate (Health and Care ...  2019 CCGs   39   \n",
       "1  West Yorkshire and Harrogate (Health and Care ...  2019 CCGs   39   \n",
       "2  West Yorkshire and Harrogate (Health and Care ...  2019 CCGs   39   \n",
       "3  West Yorkshire and Harrogate (Health and Care ...  2019 CCGs   39   \n",
       "4  West Yorkshire and Harrogate (Health and Care ...  2019 CCGs   39   \n",
       "\n",
       "     STP20CD STP20CDH                                            STP20NM  \\\n",
       "0  E54000054      QWO  West Yorkshire and Harrogate (Health and Care ...   \n",
       "1  E54000054      QWO  West Yorkshire and Harrogate (Health and Care ...   \n",
       "2  E54000054      QWO  West Yorkshire and Harrogate (Health and Care ...   \n",
       "3  E54000054      QWO  West Yorkshire and Harrogate (Health and Care ...   \n",
       "4  E54000054      QWO  West Yorkshire and Harrogate (Health and Care ...   \n",
       "\n",
       "   NHSER20CD NHSER20CDH                 NHSER20NM  \n",
       "0  E40000009        Y63  North East and Yorkshire  \n",
       "1  E40000009        Y63  North East and Yorkshire  \n",
       "2  E40000009        Y63  North East and Yorkshire  \n",
       "3  E40000009        Y63  North East and Yorkshire  \n",
       "4  E40000009        Y63  North East and Yorkshire  "
      ]
     },
     "execution_count": 11,
     "metadata": {},
     "output_type": "execute_result"
    }
   ],
   "source": [
    "end_lookup.head()"
   ]
  },
  {
   "cell_type": "markdown",
   "metadata": {},
   "source": [
    "## Now add to db in heroku"
   ]
  },
  {
   "cell_type": "code",
   "execution_count": 15,
   "metadata": {},
   "outputs": [],
   "source": [
    "from sqlalchemy import Table, Column, Integer, String,DateTime,DateTime, MetaData,create_engine, Float\n",
    "from sqlalchemy.ext.declarative import declarative_base\n",
    "from dotmap import DotMap\n",
    "from pathlib import Path\n",
    "from dotenv import load_dotenv\n",
    "import os"
   ]
  },
  {
   "cell_type": "code",
   "execution_count": 16,
   "metadata": {},
   "outputs": [
    {
     "data": {
      "text/plain": [
       "True"
      ]
     },
     "execution_count": 16,
     "metadata": {},
     "output_type": "execute_result"
    }
   ],
   "source": [
    "env_path = Path('/Users/jackpickard/Documents/Analytics/location-lookup-api/')\n",
    "load_dotenv(dotenv_path=env_path)"
   ]
  },
  {
   "cell_type": "code",
   "execution_count": 22,
   "metadata": {},
   "outputs": [],
   "source": [
    "db_url = os.environ.get('PRODUCTION_DB_URL')"
   ]
  },
  {
   "cell_type": "code",
   "execution_count": 23,
   "metadata": {},
   "outputs": [],
   "source": [
    "engine = create_engine(db_url)"
   ]
  },
  {
   "cell_type": "code",
   "execution_count": 24,
   "metadata": {},
   "outputs": [
    {
     "name": "stdout",
     "output_type": "stream",
     "text": [
      "<class 'pandas.core.frame.DataFrame'>\n",
      "Int64Index: 226 entries, 0 to 225\n",
      "Data columns (total 12 columns):\n",
      " #   Column      Non-Null Count  Dtype \n",
      "---  ------      --------------  ----- \n",
      " 0   ccg_code    226 non-null    object\n",
      " 1   ccg_name    226 non-null    object\n",
      " 2   stp_code    226 non-null    object\n",
      " 3   stp_name    226 non-null    object\n",
      " 4   file        226 non-null    object\n",
      " 5   FID         226 non-null    int64 \n",
      " 6   STP20CD     226 non-null    object\n",
      " 7   STP20CDH    226 non-null    object\n",
      " 8   STP20NM     226 non-null    object\n",
      " 9   NHSER20CD   226 non-null    object\n",
      " 10  NHSER20CDH  226 non-null    object\n",
      " 11  NHSER20NM   226 non-null    object\n",
      "dtypes: int64(1), object(11)\n",
      "memory usage: 23.0+ KB\n"
     ]
    }
   ],
   "source": [
    "end_lookup.info()"
   ]
  },
  {
   "cell_type": "code",
   "execution_count": 25,
   "metadata": {},
   "outputs": [],
   "source": [
    "lookup_cols = dict(\n",
    "    ccg_code = 'ccg_code',\n",
    "    ccg_name = 'ccg_name',\n",
    "    stp_code = 'stp_code',\n",
    "    stp_name = 'stp_name',\n",
    "    file = 'file',\n",
    "    FID = 'FID',\n",
    "    STP20CD = 'STP20CD',\n",
    "    STP20CDH = 'STP20CDH',\n",
    "    STP20NM = 'STP20NM',\n",
    "    NHSER20CD = 'NHSER20CD',\n",
    "    NHSER20CDH = 'NHSER20CDH',\n",
    "    NHSER20NM = 'NHSER20NM'\n",
    ")\n",
    "\n",
    "cd = DotMap(lookup_cols)\n",
    "\n",
    "dtypes={cd.ccg_code : String(50),\n",
    "        cd.ccg_name: String(500),\n",
    "        cd.stp_code: String(50),\n",
    "        cd.stp_name: String(500),\n",
    "        cd.file: String(100),\n",
    "        cd.FID: String(100),\n",
    "        cd.STP20CD: String(100),\n",
    "        cd.STP20CDH: String(100),\n",
    "        cd.STP20NM: String(100),\n",
    "        cd.NHSER20CD: String(100),\n",
    "        cd.NHSER20CDH: String(100),\n",
    "        cd.NHSER20NM: String(100),\n",
    "        }"
   ]
  },
  {
   "cell_type": "code",
   "execution_count": 26,
   "metadata": {},
   "outputs": [],
   "source": [
    "end_lookup.to_sql(\"lookup\",\n",
    "               engine,\n",
    "               if_exists='replace',\n",
    "               index=True,\n",
    "            index_label = 'id',\n",
    "               chunksize=10000,\n",
    "               method='multi',\n",
    "               dtype=dtypes)"
   ]
  },
  {
   "cell_type": "code",
   "execution_count": null,
   "metadata": {},
   "outputs": [],
   "source": []
  }
 ],
 "metadata": {
  "kernelspec": {
   "display_name": "hackathon",
   "language": "python",
   "name": "hackathon"
  },
  "language_info": {
   "codemirror_mode": {
    "name": "ipython",
    "version": 3
   },
   "file_extension": ".py",
   "mimetype": "text/x-python",
   "name": "python",
   "nbconvert_exporter": "python",
   "pygments_lexer": "ipython3",
   "version": "3.9.5"
  }
 },
 "nbformat": 4,
 "nbformat_minor": 4
}
