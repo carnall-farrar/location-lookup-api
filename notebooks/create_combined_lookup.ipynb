{
 "cells": [
  {
   "cell_type": "code",
   "execution_count": 1,
   "metadata": {},
   "outputs": [],
   "source": [
    "import pandas as pd"
   ]
  },
  {
   "cell_type": "markdown",
   "metadata": {},
   "source": [
    "Aiming to combine 2018 and 2020 CCG -> STP -> region lookup\n",
    "\n",
    "To account for CCG changes"
   ]
  },
  {
   "cell_type": "code",
   "execution_count": 3,
   "metadata": {},
   "outputs": [],
   "source": [
    "ccg19 = pd.read_csv('../data/ccg_2019.csv')\n",
    "ccg19 = ccg19[['CCG19CDH', 'CCG19NM', 'STP19CD', 'STP19NM']] \\\n",
    "        .rename(columns = {'CCG19CDH': 'ccg_code', 'CCG19NM': 'ccg_name', 'STP19CD': 'stp_code', 'STP19NM':'stp_name'})\n",
    "ccg19['file'] = '2019 CCGs'\n",
    "\n",
    "ccg20 = pd.read_csv('../data/ccg_2020.csv')\n",
    "ccg20 = ccg20[['CCG20CDH', 'CCG20NM', 'STP20CD', 'STP20NM']] \\\n",
    "        .rename(columns = {'CCG20CDH': 'ccg_code', 'CCG20NM': 'ccg_name', 'STP20CD': 'stp_code', 'STP20NM':'stp_name'})\n",
    "ccg20['file'] = '2020 CCGs'\n",
    "\n",
    "ccg21 = pd.read_csv('../data/ccg_2021.csv')\n",
    "ccg21 = ccg21[['CCG21CDH', 'CCG21NM', 'STP21CD', 'STP21NM']] \\\n",
    "        .rename(columns = {'CCG21CDH': 'ccg_code', 'CCG21NM': 'ccg_name', 'STP21CD': 'stp_code', 'STP21NM':'stp_name'})\n",
    "ccg21['file'] = '2021 CCGs'\n",
    "\n",
    "stp = pd.read_csv('../data/stp_region_21.csv')\n"
   ]
  },
  {
   "cell_type": "code",
   "execution_count": 4,
   "metadata": {},
   "outputs": [],
   "source": [
    "ccg_concat = pd.concat([ccg19, ccg20, ccg21])"
   ]
  },
  {
   "cell_type": "code",
   "execution_count": 5,
   "metadata": {},
   "outputs": [
    {
     "data": {
      "text/html": [
       "<div>\n",
       "<style scoped>\n",
       "    .dataframe tbody tr th:only-of-type {\n",
       "        vertical-align: middle;\n",
       "    }\n",
       "\n",
       "    .dataframe tbody tr th {\n",
       "        vertical-align: top;\n",
       "    }\n",
       "\n",
       "    .dataframe thead th {\n",
       "        text-align: right;\n",
       "    }\n",
       "</style>\n",
       "<table border=\"1\" class=\"dataframe\">\n",
       "  <thead>\n",
       "    <tr style=\"text-align: right;\">\n",
       "      <th></th>\n",
       "      <th>ccg_code</th>\n",
       "      <th>ccg_name</th>\n",
       "      <th>stp_code</th>\n",
       "      <th>stp_name</th>\n",
       "      <th>file</th>\n",
       "    </tr>\n",
       "  </thead>\n",
       "  <tbody>\n",
       "    <tr>\n",
       "      <th>54</th>\n",
       "      <td>99G</td>\n",
       "      <td>NHS Southend CCG</td>\n",
       "      <td>E54000026</td>\n",
       "      <td>Mid and South Essex</td>\n",
       "      <td>2021 CCGs</td>\n",
       "    </tr>\n",
       "  </tbody>\n",
       "</table>\n",
       "</div>"
      ],
      "text/plain": [
       "   ccg_code          ccg_name   stp_code             stp_name       file\n",
       "54      99G  NHS Southend CCG  E54000026  Mid and South Essex  2021 CCGs"
      ]
     },
     "execution_count": 5,
     "metadata": {},
     "output_type": "execute_result"
    }
   ],
   "source": [
    "ccg_concat.sample()"
   ]
  },
  {
   "cell_type": "code",
   "execution_count": 6,
   "metadata": {},
   "outputs": [
    {
     "data": {
      "text/html": [
       "<div>\n",
       "<style scoped>\n",
       "    .dataframe tbody tr th:only-of-type {\n",
       "        vertical-align: middle;\n",
       "    }\n",
       "\n",
       "    .dataframe tbody tr th {\n",
       "        vertical-align: top;\n",
       "    }\n",
       "\n",
       "    .dataframe thead th {\n",
       "        text-align: right;\n",
       "    }\n",
       "</style>\n",
       "<table border=\"1\" class=\"dataframe\">\n",
       "  <thead>\n",
       "    <tr style=\"text-align: right;\">\n",
       "      <th></th>\n",
       "      <th>FID</th>\n",
       "      <th>STP20CD</th>\n",
       "      <th>STP20CDH</th>\n",
       "      <th>STP20NM</th>\n",
       "      <th>NHSER20CD</th>\n",
       "      <th>NHSER20CDH</th>\n",
       "      <th>NHSER20NM</th>\n",
       "    </tr>\n",
       "  </thead>\n",
       "  <tbody>\n",
       "    <tr>\n",
       "      <th>14</th>\n",
       "      <td>15</td>\n",
       "      <td>E54000039</td>\n",
       "      <td>QUY</td>\n",
       "      <td>Bristol, North Somerset and South Gloucestershire</td>\n",
       "      <td>E40000006</td>\n",
       "      <td>Y58</td>\n",
       "      <td>South West</td>\n",
       "    </tr>\n",
       "  </tbody>\n",
       "</table>\n",
       "</div>"
      ],
      "text/plain": [
       "    FID    STP20CD STP20CDH  \\\n",
       "14   15  E54000039      QUY   \n",
       "\n",
       "                                              STP20NM  NHSER20CD NHSER20CDH  \\\n",
       "14  Bristol, North Somerset and South Gloucestershire  E40000006        Y58   \n",
       "\n",
       "     NHSER20NM  \n",
       "14  South West  "
      ]
     },
     "execution_count": 6,
     "metadata": {},
     "output_type": "execute_result"
    }
   ],
   "source": [
    "stp.sample()"
   ]
  },
  {
   "cell_type": "code",
   "execution_count": 7,
   "metadata": {},
   "outputs": [
    {
     "data": {
      "text/plain": [
       "(432, 5)"
      ]
     },
     "execution_count": 7,
     "metadata": {},
     "output_type": "execute_result"
    }
   ],
   "source": [
    "ccg_concat.shape"
   ]
  },
  {
   "cell_type": "code",
   "execution_count": 8,
   "metadata": {},
   "outputs": [],
   "source": [
    "ccg_concat.stp_code = ccg_concat.stp_code.replace('E54000005', 'E54000054')\n",
    "ccg_concat.stp_code = ccg_concat.stp_code.replace('E54000006', 'E54000051')\n",
    "ccg_concat.stp_code = ccg_concat.stp_code.replace('E54000033', 'E54000053')\n",
    "ccg_concat.stp_code = ccg_concat.stp_code.replace('E54000035', 'E54000052')\n",
    "ccg_concat.stp_code = ccg_concat.stp_code.replace('E54000049', 'E54000050')\n",
    "\n",
    "ccg_concat = ccg_concat.drop_duplicates(subset=['ccg_code', 'ccg_name', 'stp_code', 'stp_name'])"
   ]
  },
  {
   "cell_type": "code",
   "execution_count": 44,
   "metadata": {},
   "outputs": [],
   "source": [
    "end_lookup = ccg_concat.merge(stp, left_on='stp_code', right_on='STP20CD', how='left')\n",
    "\n",
    "end_lookup.stp_name = end_lookup.stp_name.replace('Cornwall and the Isles of Scilly Health and Social Care Partnership', 'Cornwall and the Isles of Scilly')\n",
    "end_lookup.stp_name = end_lookup.stp_name.replace('Frimley Health and Care ICS', 'Frimley Health')\n",
    "end_lookup.stp_name = end_lookup.stp_name.replace('Surrey Heartlands Health and Care Partnership', 'Surrey Heartlands')\n",
    "end_lookup.stp_name = end_lookup.stp_name.replace('Sussex and East Surrey Health and Care Partnership', 'Sussex Health and Care Partnership')\n",
    "end_lookup.stp_name = end_lookup.stp_name.replace('Sussex and East Surrey', 'Sussex Health and Care Partnership')"
   ]
  },
  {
   "cell_type": "code",
   "execution_count": 50,
   "metadata": {},
   "outputs": [],
   "source": [
    "end_lookup.to_csv('../outputs/combined_lookup.csv')"
   ]
  },
  {
   "cell_type": "code",
   "execution_count": 41,
   "metadata": {},
   "outputs": [],
   "source": []
  },
  {
   "cell_type": "code",
   "execution_count": 49,
   "metadata": {},
   "outputs": [
    {
     "name": "stdout",
     "output_type": "stream",
     "text": [
      "<class 'pandas.core.frame.DataFrame'>\n",
      "Int64Index: 226 entries, 0 to 225\n",
      "Data columns (total 12 columns):\n",
      " #   Column      Non-Null Count  Dtype \n",
      "---  ------      --------------  ----- \n",
      " 0   ccg_code    226 non-null    object\n",
      " 1   ccg_name    226 non-null    object\n",
      " 2   stp_code    226 non-null    object\n",
      " 3   stp_name    226 non-null    object\n",
      " 4   file        226 non-null    object\n",
      " 5   FID         226 non-null    int64 \n",
      " 6   STP20CD     226 non-null    object\n",
      " 7   STP20CDH    226 non-null    object\n",
      " 8   STP20NM     226 non-null    object\n",
      " 9   NHSER20CD   226 non-null    object\n",
      " 10  NHSER20CDH  226 non-null    object\n",
      " 11  NHSER20NM   226 non-null    object\n",
      "dtypes: int64(1), object(11)\n",
      "memory usage: 23.0+ KB\n"
     ]
    }
   ],
   "source": [
    "end_lookup"
   ]
  },
  {
   "cell_type": "code",
   "execution_count": null,
   "metadata": {},
   "outputs": [],
   "source": []
  }
 ],
 "metadata": {
  "kernelspec": {
   "display_name": "Python 3",
   "language": "python",
   "name": "python3"
  },
  "language_info": {
   "codemirror_mode": {
    "name": "ipython",
    "version": 3
   },
   "file_extension": ".py",
   "mimetype": "text/x-python",
   "name": "python",
   "nbconvert_exporter": "python",
   "pygments_lexer": "ipython3",
   "version": "3.9.5"
  }
 },
 "nbformat": 4,
 "nbformat_minor": 4
}
